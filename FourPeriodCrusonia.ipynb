{
 "cells": [
  {
   "cell_type": "code",
   "execution_count": 350,
   "metadata": {},
   "outputs": [
    {
     "name": "stdout",
     "output_type": "stream",
     "text": [
      "Friday's Total Utility: 13.168244284489393\n",
      "Initial Mass of the Crusonia Plant: 100.0\n",
      "  Period        Consumption\n",
      "Period 1               25.0\n",
      "Period 2              26.25\n",
      "Period 3 27.562500000000004\n",
      "Period 4          28.940625\n"
     ]
    },
    {
     "data": {
      "image/png": "[encoded data removed]",
      "text/plain": [
       "<Figure size 432x288 with 1 Axes>"
      ]
     },
     "metadata": {
      "needs_background": "light"
     },
     "output_type": "display_data"
    }
   ],
   "source": [
    "#Four-Period Crusonia Model\n",
    "import numpy as np\n",
    "import math\n",
    "import matplotlib.pyplot as plt\n",
    "import pandas as pd\n",
    "\n",
    "#Objective Function\n",
    "def u(c1, c2, c3, c4):\n",
    "    return math.log(c1) + ß*math.log(c2) + (ß**2)*math.log(c3) + (ß**3)*math.log(c4)\n",
    "#Constraint\n",
    "def c(c1, c2, c3, c4):\n",
    "    return c1 + c2/π + c3/(π**2) + c4/(π**3)\n",
    "\n",
    "#Parameters:\n",
    "ß = 1.00\n",
    "π = 1.05\n",
    "c0 = 100\n",
    "\n",
    "#A System of Equations for the Optimal Bundle:\n",
    "A = np.array([[(1+ß+ß**2+ß**3),0, 0, 0], [0,(1+ß+ß**2+ß**3)/(ß*π), 0, 0], [0, 0 , (1+ß+ß**2+ß**3)/((ß**2)*(π**2)), 0], [0, 0 , 0, (1+ß+ß**2+ß**3)/((ß**3)*(π**3))]])\n",
    "B = np.array([c0,c0, c0, c0])\n",
    "C = np.linalg.solve(A, B)\n",
    "\n",
    "\n",
    "\n",
    "#Optimal Choice in Periods 1 and 2:\n",
    "c1 = C[0]\n",
    "c2 = C[1]\n",
    "c3 = C[2]\n",
    "c4 = C[3]\n",
    "\n",
    "#Total Utility \n",
    "print(\"Friday's Total Utility:\", u(c1, c2, c3, c4))\n",
    "print('Initial Mass of the Crusonia Plant:', c(c1, c2, c3, c4))\n",
    "\n",
    "#Graph of Friday's Consumption Across Time\n",
    "x = np.array([\"Period 1\", \"Period 2\", \"Period 3\", \"Period 4\"])\n",
    "y = np.array([c1, c2, c3, c4])\n",
    "\n",
    "fourperioddf = pd.DataFrame(data=np.column_stack((x,y)),columns=['Period','Consumption'])\n",
    "print(fourperioddf.to_string(index=False))\n",
    "\n",
    "plt.bar(x,y, width=1.25)\n",
    "\n",
    "font1 = {'family':'MS Reference Sans Serif', 'color':'darkslategray','size':14}\n",
    "font2 = {'family':'MS Reference Specialty', 'color':'black','size':18}\n",
    "\n",
    "plt.xlabel(\"Period of Time\",  fontdict = font1)\n",
    "plt.ylabel(\"Friday's Consumption\",  fontdict = font1)\n",
    "plt.title(\"Friday's Optimal Consumption Over Time\", fontdict = font2)\n",
    "\n",
    "plt.show()"
   ]
  },
  {
   "cell_type": "code",
   "execution_count": 351,
   "metadata": {},
   "outputs": [
    {
     "data": {
      "text/plain": [
       "107.753125"
      ]
     },
     "execution_count": 351,
     "metadata": {},
     "output_type": "execute_result"
    }
   ],
   "source": [
    "sum(y)"
   ]
  },
  {
   "cell_type": "code",
   "execution_count": 352,
   "metadata": {},
   "outputs": [
    {
     "name": "stdout",
     "output_type": "stream",
     "text": [
      "Friday's income in Period 1 is: 26.85826977175836\n",
      "The product of Friday's discount factor and his Crusonia plant's productivity: 1.05\n",
      "The ratio of Friday's consumption in Period 2 to his consumption in Period 1: 1.05\n",
      "The ratio of Friday's consumption in Period 3 to his consumption in Period 2: 1.05\n",
      "The ratio of Friday's consumption in Period 2 to his consumption in Period 1: 1.0499999999999998\n",
      "Friday saves.\n"
     ]
    }
   ],
   "source": [
    "def sigma_sum(start, end, expression):\n",
    "    return sum(expression(i) for i in range(start, end))\n",
    "\n",
    "income1 = c0/(sigma_sum(1, 5,lambda i: π**(1-i) ))\n",
    "print(\"Friday's income in Period 1 is:\",income1)\n",
    "\n",
    "print(\"The product of Friday's discount factor and his Crusonia plant's productivity:\",ß*π)\n",
    "\n",
    "print(\"The ratio of Friday's consumption in Period 2 to his consumption in Period 1:\",c2/c1)\n",
    "print(\"The ratio of Friday's consumption in Period 3 to his consumption in Period 2:\",c3/c2)\n",
    "print(\"The ratio of Friday's consumption in Period 2 to his consumption in Period 1:\",c4/c3)\n",
    "\n",
    "if income1 > c1:\n",
    "    print(\"Friday saves.\")\n",
    "\n",
    "if income1 < c1:\n",
    "    print(\"Friday dissaves.\")\n",
    "\n",
    "\n",
    "if income1 == c1:\n",
    "    print(\"Friday consumes his income.\")"
   ]
  },
  {
   "cell_type": "code",
   "execution_count": 353,
   "metadata": {},
   "outputs": [
    {
     "name": "stdout",
     "output_type": "stream",
     "text": [
      "26.85826977175836\n"
     ]
    }
   ],
   "source": [
    "def sigma_sum(start, end, expression):\n",
    "    return sum(expression(i) for i in range(start, end))\n",
    "\n",
    "income1 = c0/(sigma_sum(1, 5,lambda i: π**(1-i) ))\n",
    "print(income1)\n"
   ]
  },
  {
   "cell_type": "code",
   "execution_count": 354,
   "metadata": {},
   "outputs": [
    {
     "name": "stdout",
     "output_type": "stream",
     "text": [
      "Friday saves.\n"
     ]
    }
   ],
   "source": [
    "if income1 > c1:\n",
    "    print(\"Friday saves.\")\n",
    "\n",
    "if income1 < c1:\n",
    "    print(\"Friday dissaves.\")\n",
    "\n",
    "\n",
    "if income1 == c1:\n",
    "    print(\"Friday consumes his income.\")"
   ]
  },
  {
   "cell_type": "code",
   "execution_count": 355,
   "metadata": {},
   "outputs": [
    {
     "name": "stdout",
     "output_type": "stream",
     "text": [
      "1.0743307908703343\n"
     ]
    }
   ],
   "source": [
    "print(income1/c1)"
   ]
  },
  {
   "cell_type": "code",
   "execution_count": 356,
   "metadata": {},
   "outputs": [
    {
     "name": "stdout",
     "output_type": "stream",
     "text": [
      "Friday's income in Period 1 is: 26.85826977175836\n",
      "Friday's income in Period 2 is: 27.54064234734338\n",
      "Friday's income in Period 3 is: 28.234756097560975\n",
      "Friday's income in Period 4 is: 28.940624999999997\n",
      "  Period             Income\n",
      "Period 1  26.85826977175836\n",
      "Period 2  27.54064234734338\n",
      "Period 3 28.234756097560975\n",
      " Period4 28.940624999999997\n"
     ]
    },
    {
     "data": {
      "image/png": "[encoded data removed]",
      "text/plain": [
       "<Figure size 432x288 with 1 Axes>"
      ]
     },
     "metadata": {
      "needs_background": "light"
     },
     "output_type": "display_data"
    }
   ],
   "source": [
    "#Working Out the Time Path of Friday's Income:\n",
    "\n",
    "#Period 1\n",
    "income1 = c0/(sigma_sum(1, 5,lambda i: π**(1-i) ))\n",
    "print(\"Friday's income in Period 1 is:\",income1)\n",
    "\n",
    "#Period 2 \n",
    "\n",
    "capital2 = π*(c0-c1)\n",
    "income2 = π*(c0-c1)/(sigma_sum(1, 4,lambda i: π**(1-i) ))\n",
    "\n",
    "print(\"Friday's income in Period 2 is:\",income2)\n",
    "\n",
    "#Period 3\n",
    "capital3 = π*(π*(c0-c1)-c2)\n",
    "\n",
    "income3 = π*(π*(c0-c1)-c2)/(sigma_sum(1, 3,lambda i: π**(1-i) ))\n",
    "print(\"Friday's income in Period 3 is:\",income3)\n",
    "\n",
    "income4 =  π*(π*(π*(c0-c1)-c2)-c3)/(sigma_sum(1, 2,lambda i: π**(1-i) ))\n",
    "print(\"Friday's income in Period 4 is:\",income4)\n",
    "\n",
    "\n",
    "#Data Frame for the Time Path:\n",
    "timearray = np.array([\"Period 1\", \"Period 2\", \"Period 3\", \"Period4\"])\n",
    "incomearray = np.array([income1, income2, income3, income4])\n",
    "\n",
    "incomedf = pd.DataFrame(data=np.column_stack((timearray,incomearray)),columns=['Period','Income'])\n",
    "print(incomedf.to_string(index=False))\n",
    "\n",
    "plt.bar(timearray,incomearray, width=1.25)\n",
    "\n",
    "font1 = {'family':'MS Reference Sans Serif', 'color':'darkslategray','size':14}\n",
    "font2 = {'family':'MS Reference Specialty', 'color':'black','size':18}\n",
    "\n",
    "plt.xlabel(\"Period of Time\",  fontdict = font1)\n",
    "plt.ylabel(\"Friday's Income\",  fontdict = font1)\n",
    "plt.title(\"Friday's Income Over Time\", fontdict = font2)\n",
    "\n",
    "plt.show()"
   ]
  },
  {
   "cell_type": "code",
   "execution_count": 357,
   "metadata": {},
   "outputs": [
    {
     "name": "stdout",
     "output_type": "stream",
     "text": [
      "The ratio between Friday's Period 1 income and consumption is: 1.0743307908703343\n",
      "The ratio between Friday's Period 2 income and consumption is: 1.049167327517843\n",
      "The ratio between Friday's Period 3 income and consumption is: 1.0243902439024388\n",
      "The ratio of Friday's Period 2 to Period 1 income is: 1.025406423473434\n",
      "The ratio of Friday's Period 3 to Period 2 income is: 1.0252032520325203\n",
      "The difference between Friday's Period 2 and Period 1 consumption is: 1.25\n",
      "The difference between Friday's Period 2 and Period 1 income is: 0.6823725755850205\n",
      "The difference between Friday's Period 3 and Period 2 consumption is: 1.3125000000000036\n",
      "The difference between Friday's Period 3 and Period 2 income is: 0.6941137502175962\n"
     ]
    }
   ],
   "source": [
    "#Some Comparisons\n",
    "print(\"The ratio between Friday's Period 1 income and consumption is:\", income1/c1)\n",
    "print(\"The ratio between Friday's Period 2 income and consumption is:\", income2/c2)\n",
    "print(\"The ratio between Friday's Period 3 income and consumption is:\", income3/c3)\n",
    "\n",
    "print(\"The ratio of Friday's Period 2 to Period 1 income is:\", income2/income1)\n",
    "print(\"The ratio of Friday's Period 3 to Period 2 income is:\",income3/income2)\n",
    "\n",
    "\n",
    "\n",
    "print(\"The difference between Friday's Period 2 and Period 1 consumption is:\",c2-c1)\n",
    "print(\"The difference between Friday's Period 2 and Period 1 income is:\",income2-income1)\n",
    "\n",
    "print(\"The difference between Friday's Period 3 and Period 2 consumption is:\",c3-c2)\n",
    "print(\"The difference between Friday's Period 3 and Period 2 income is:\",income3-income2)"
   ]
  },
  {
   "cell_type": "code",
   "execution_count": 358,
   "metadata": {},
   "outputs": [
    {
     "name": "stdout",
     "output_type": "stream",
     "text": [
      "1.25\n",
      "0.6823725755850205\n",
      "1.3125000000000036\n",
      "0.6941137502175962\n",
      "1.3781249999999972\n"
     ]
    }
   ],
   "source": [
    "#More comparisons:\n",
    "#Differences Between Periods 2 and 1:\n",
    "print(c2-c1)\n",
    "print(income2-income1)\n",
    "\n",
    "#Differences Between Periods 3 and 2:\n",
    "print(c3-c2)\n",
    "print(income3-income2)\n",
    "\n",
    "#Differences Between Periods 4 and 3:\n",
    "print(c4-c3)\n",
    "#There is no measure of income inn Period 4 as the plant ceases to be capital inn the terminal period\n",
    "\n",
    "\n"
   ]
  },
  {
   "cell_type": "code",
   "execution_count": 359,
   "metadata": {},
   "outputs": [
    {
     "name": "stdout",
     "output_type": "stream",
     "text": [
      "0.9308120073426196\n",
      "0.9308120073426196\n",
      "0.9531368102796675\n",
      "0.9531368102796675\n",
      "0.9761904761904762\n",
      "0.9761904761904762\n",
      "1.0\n",
      "1.0\n",
      "1.023984223195383\n",
      "1.0241871530531323\n",
      "1.024390243902439\n"
     ]
    }
   ],
   "source": [
    "#Testing out my accounting factor:\n",
    "\n",
    "def accountingfactor(t):\n",
    "    return sum(π**(1-x) for x in range(1, (5-t)+1)) /  sum(ß**(x-1) for x in range(1, (5-t)+1))\n",
    "\n",
    "print(accountingfactor(1))\n",
    "print(sigma_sum(1, 5,lambda i: π**(1-i))/sigma_sum(1, 5,lambda i: ß**(i-1)))\n",
    "\n",
    "print(accountingfactor(2))\n",
    "print(sigma_sum(1, 4,lambda i: π**(1-i))/sigma_sum(1, 4,lambda i: ß**(i-1)))\n",
    "\n",
    "print(accountingfactor(3))\n",
    "print(sigma_sum(1, 3,lambda i: π**(1-i))/sigma_sum(1, 3,lambda i: ß**(i-1)))\n",
    "\n",
    "print(accountingfactor(4))\n",
    "print(sigma_sum(1, 2,lambda i: π**(1-i))/sigma_sum(1, 2,lambda i: ß**(i-1)))\n",
    "\n",
    "print(accountingfactor(2)/accountingfactor(1))\n",
    "print(accountingfactor(3)/accountingfactor(2))\n",
    "print(accountingfactor(4)/accountingfactor(3))"
   ]
  },
  {
   "cell_type": "code",
   "execution_count": 411,
   "metadata": {},
   "outputs": [
    {
     "data": {
      "text/plain": [
       "25.0"
      ]
     },
     "execution_count": 411,
     "metadata": {},
     "output_type": "execute_result"
    }
   ],
   "source": [
    "accountingfactor(1)*income1"
   ]
  },
  {
   "cell_type": "code",
   "execution_count": 361,
   "metadata": {},
   "outputs": [
    {
     "name": "stdout",
     "output_type": "stream",
     "text": [
      "[100.        78.75      55.125     28.940625]\n",
      "0.7875\n",
      "0.7\n",
      "0.5249999999999999\n",
      "-0.21250000000000002\n",
      "-0.30000000000000004\n",
      "-0.4750000000000001\n"
     ]
    }
   ],
   "source": [
    "#The Time Path of Friday's Capital:\n",
    "\n",
    "capital1 = c0\n",
    "capital2 = π*(c0-c1)\n",
    "capital3 = π*(π*(c0-c1)-c2)\n",
    "capital4 =  π*((π*(π*(c0-c1)-c2))-c3)\n",
    "\n",
    "capitalarray = np.array([c0, π*(c0-c1), π*(π*(c0-c1)-c2), π*((π*(π*(c0-c1)-c2))-c3)])\n",
    "print(capitalarray)\n",
    "\n",
    "print(capital2/capital1)\n",
    "print(capital3/capital2)\n",
    "print(capital4/capital3)\n",
    "\n",
    "rate1 = capital2/capital1 - 1\n",
    "print(rate1)\n",
    "rate2 = capital3/capital2 - 1\n",
    "print(rate2)\n",
    "rate3 = capital4/capital3 - 1\n",
    "print(rate3)"
   ]
  },
  {
   "cell_type": "code",
   "execution_count": 362,
   "metadata": {},
   "outputs": [
    {
     "name": "stdout",
     "output_type": "stream",
     "text": [
      "78.75\n"
     ]
    }
   ],
   "source": [
    "print((1+rate1)*capital1)"
   ]
  },
  {
   "cell_type": "code",
   "execution_count": 363,
   "metadata": {},
   "outputs": [
    {
     "name": "stdout",
     "output_type": "stream",
     "text": [
      "0.9531368102796675\n"
     ]
    }
   ],
   "source": [
    "ratio1 = sigma_sum(1, 4,lambda i: π**(1-i) )/sigma_sum(1, 4,lambda i: ß**(i-1) )\n",
    "print(ratio1)"
   ]
  },
  {
   "cell_type": "code",
   "execution_count": 364,
   "metadata": {},
   "outputs": [
    {
     "name": "stdout",
     "output_type": "stream",
     "text": [
      "2.8594104308390023\n",
      "3.0\n",
      "25.0\n",
      "25.0\n",
      "26.25\n",
      "26.25\n",
      "27.562500000000004\n",
      "27.5625\n",
      "28.940625\n",
      "28.940624999999997\n"
     ]
    }
   ],
   "source": [
    "#Computing the Accounting Factors:\n",
    "print(sigma_sum(1, 4,lambda i: π**(1-i)))\n",
    "print(sigma_sum(1, 4,lambda i: ß**(i-1)))\n",
    "\n",
    "#Period 1's Consumption:\n",
    "\n",
    "c1equiv = (sigma_sum(1, 5,lambda i: π**(1-i))/sigma_sum(1, 5,lambda i: ß**(i-1)))*income1 \n",
    "print(c1)\n",
    "print(c1equiv)\n",
    "\n",
    "\n",
    "#Period 2's Consumption:\n",
    "c2equiv = (sigma_sum(1, 4,lambda i: π**(1-i))/sigma_sum(1, 4,lambda i: ß**(i-1)))*income2\n",
    "print(c2)\n",
    "print(c2equiv) \n",
    "\n",
    "#Period 3's Consumption:\n",
    "c3equiv = (sigma_sum(1, 3,lambda i: π**(1-i))/sigma_sum(1, 3,lambda i: ß**(i-1)))*income3\n",
    "print(c3)\n",
    "print(c3equiv)\n",
    "\n",
    "\n",
    "#Period 4's Consumption:\n",
    "c4equiv = (sigma_sum(1, 2,lambda i: π**(1-i))/sigma_sum(1, 2,lambda i: ß**(i-1)))*income4\n",
    "print(c4)\n",
    "print(c4equiv)\n"
   ]
  },
  {
   "cell_type": "code",
   "execution_count": null,
   "metadata": {},
   "outputs": [],
   "source": []
  },
  {
   "cell_type": "code",
   "execution_count": 365,
   "metadata": {},
   "outputs": [
    {
     "data": {
      "text/plain": [
       "55"
      ]
     },
     "execution_count": 365,
     "metadata": {},
     "output_type": "execute_result"
    }
   ],
   "source": [
    "sum(x ** 2 for x in range(1, 6))"
   ]
  },
  {
   "cell_type": "code",
   "execution_count": 366,
   "metadata": {},
   "outputs": [
    {
     "data": {
      "text/plain": [
       "2.8594104308390023"
      ]
     },
     "execution_count": 366,
     "metadata": {},
     "output_type": "execute_result"
    }
   ],
   "source": [
    "sum(π**(1-x) for x in range(1, 4))"
   ]
  },
  {
   "cell_type": "code",
   "execution_count": 367,
   "metadata": {},
   "outputs": [
    {
     "name": "stdout",
     "output_type": "stream",
     "text": [
      "3.7232480293704784\n",
      "3.7232480293704784\n"
     ]
    }
   ],
   "source": [
    "def y(v0, t):\n",
    "    g = 9.81                  # Acceleration of gravity\n",
    "    return v0*t - 0.5*g*t**2\n",
    "\n",
    "def accountingparameter(t):\n",
    "    return sum(π**(1-x) for x in range(1, t+1))\n",
    "\n",
    "print(accountingparameter(4))\n",
    "\n",
    "print(sigma_sum(1, 5,lambda i: π**(1-i)))"
   ]
  },
  {
   "cell_type": "code",
   "execution_count": 373,
   "metadata": {},
   "outputs": [
    {
     "name": "stdout",
     "output_type": "stream",
     "text": [
      "28.940625\n",
      "28.940625\n"
     ]
    }
   ],
   "source": [
    "def consumption(t):\n",
    "    return C[t-1]\n",
    "\n",
    "def consumptiontest(t):\n",
    "    if t == 1:\n",
    "        return c1\n",
    "    if t == 2:\n",
    "        return c2\n",
    "    if t == 3:\n",
    "        return c3\n",
    "    if t == 4:\n",
    "        return c4\n",
    "\n",
    "print(consumption(4))\n",
    "\n",
    "\n",
    "\n",
    "print(consumptiontest(4))\n"
   ]
  },
  {
   "cell_type": "code",
   "execution_count": null,
   "metadata": {},
   "outputs": [
    {
     "ename": "IndexError",
     "evalue": "index 4 is out of bounds for axis 0 with size 4",
     "output_type": "error",
     "traceback": [
      "\u001b[1;31m---------------------------------------------------------------------------\u001b[0m",
      "\u001b[1;31mIndexError\u001b[0m                                Traceback (most recent call last)",
      "\u001b[1;32m~\\AppData\\Local\\Temp/ipykernel_17356/3620273838.py\u001b[0m in \u001b[0;36m<module>\u001b[1;34m\u001b[0m\n\u001b[1;32m----> 1\u001b[1;33m \u001b[0mconsumption\u001b[0m\u001b[1;33m(\u001b[0m\u001b[1;36m4\u001b[0m\u001b[1;33m)\u001b[0m\u001b[1;33m\u001b[0m\u001b[1;33m\u001b[0m\u001b[0m\n\u001b[0m",
      "\u001b[1;32m~\\AppData\\Local\\Temp/ipykernel_17356/1225059576.py\u001b[0m in \u001b[0;36mconsumption\u001b[1;34m(t)\u001b[0m\n\u001b[0;32m     12\u001b[0m \u001b[1;33m\u001b[0m\u001b[0m\n\u001b[0;32m     13\u001b[0m \u001b[1;32mdef\u001b[0m \u001b[0mconsumption\u001b[0m\u001b[1;33m(\u001b[0m\u001b[0mt\u001b[0m\u001b[1;33m)\u001b[0m\u001b[1;33m:\u001b[0m\u001b[1;33m\u001b[0m\u001b[1;33m\u001b[0m\u001b[0m\n\u001b[1;32m---> 14\u001b[1;33m     \u001b[1;32mreturn\u001b[0m \u001b[0mC\u001b[0m\u001b[1;33m[\u001b[0m\u001b[0mt\u001b[0m\u001b[1;33m]\u001b[0m\u001b[1;33m\u001b[0m\u001b[1;33m\u001b[0m\u001b[0m\n\u001b[0m\u001b[0;32m     15\u001b[0m \u001b[1;33m\u001b[0m\u001b[0m\n\u001b[0;32m     16\u001b[0m \u001b[0mprint\u001b[0m\u001b[1;33m(\u001b[0m\u001b[0mconsumptiontest\u001b[0m\u001b[1;33m(\u001b[0m\u001b[1;36m2\u001b[0m\u001b[1;33m)\u001b[0m\u001b[1;33m)\u001b[0m\u001b[1;33m\u001b[0m\u001b[1;33m\u001b[0m\u001b[0m\n",
      "\u001b[1;31mIndexError\u001b[0m: index 4 is out of bounds for axis 0 with size 4"
     ]
    }
   ],
   "source": [
    "consumption(4)"
   ]
  },
  {
   "cell_type": "code",
   "execution_count": null,
   "metadata": {},
   "outputs": [
    {
     "data": {
      "text/plain": [
       "0.9308120073426196"
      ]
     },
     "execution_count": 293,
     "metadata": {},
     "output_type": "execute_result"
    }
   ],
   "source": [
    "sigma_sum(1, 5,lambda i: π**(1-i))/sigma_sum(1, 5,lambda i: ß**(i-1))"
   ]
  },
  {
   "cell_type": "code",
   "execution_count": null,
   "metadata": {},
   "outputs": [
    {
     "ename": "IndexError",
     "evalue": "index 4 is out of bounds for axis 0 with size 4",
     "output_type": "error",
     "traceback": [
      "\u001b[1;31m---------------------------------------------------------------------------\u001b[0m",
      "\u001b[1;31mIndexError\u001b[0m                                Traceback (most recent call last)",
      "\u001b[1;32m~\\AppData\\Local\\Temp/ipykernel_17356/3620273838.py\u001b[0m in \u001b[0;36m<module>\u001b[1;34m\u001b[0m\n\u001b[1;32m----> 1\u001b[1;33m \u001b[0mconsumption\u001b[0m\u001b[1;33m(\u001b[0m\u001b[1;36m4\u001b[0m\u001b[1;33m)\u001b[0m\u001b[1;33m\u001b[0m\u001b[1;33m\u001b[0m\u001b[0m\n\u001b[0m",
      "\u001b[1;32m~\\AppData\\Local\\Temp/ipykernel_17356/1225059576.py\u001b[0m in \u001b[0;36mconsumption\u001b[1;34m(t)\u001b[0m\n\u001b[0;32m     12\u001b[0m \u001b[1;33m\u001b[0m\u001b[0m\n\u001b[0;32m     13\u001b[0m \u001b[1;32mdef\u001b[0m \u001b[0mconsumption\u001b[0m\u001b[1;33m(\u001b[0m\u001b[0mt\u001b[0m\u001b[1;33m)\u001b[0m\u001b[1;33m:\u001b[0m\u001b[1;33m\u001b[0m\u001b[1;33m\u001b[0m\u001b[0m\n\u001b[1;32m---> 14\u001b[1;33m     \u001b[1;32mreturn\u001b[0m \u001b[0mC\u001b[0m\u001b[1;33m[\u001b[0m\u001b[0mt\u001b[0m\u001b[1;33m]\u001b[0m\u001b[1;33m\u001b[0m\u001b[1;33m\u001b[0m\u001b[0m\n\u001b[0m\u001b[0;32m     15\u001b[0m \u001b[1;33m\u001b[0m\u001b[0m\n\u001b[0;32m     16\u001b[0m \u001b[0mprint\u001b[0m\u001b[1;33m(\u001b[0m\u001b[0mconsumptiontest\u001b[0m\u001b[1;33m(\u001b[0m\u001b[1;36m2\u001b[0m\u001b[1;33m)\u001b[0m\u001b[1;33m)\u001b[0m\u001b[1;33m\u001b[0m\u001b[1;33m\u001b[0m\u001b[0m\n",
      "\u001b[1;31mIndexError\u001b[0m: index 4 is out of bounds for axis 0 with size 4"
     ]
    }
   ],
   "source": [
    "consumption(4)"
   ]
  },
  {
   "cell_type": "code",
   "execution_count": 408,
   "metadata": {},
   "outputs": [
    {
     "name": "stdout",
     "output_type": "stream",
     "text": [
      "[[25.0, 100, 26.85826977175836], [26.25, 78.75, 27.54064234734338], [27.562500000000004, 55.125, 28.234756097560975], [28.940625, 28.940624999999997, 28.940624999999997]]\n",
      "          Consumption     Capital     Income\n",
      "Period 1    25.000000  100.000000  26.858270\n",
      "Period 2    26.250000   78.750000  27.540642\n",
      "Period 3    27.562500   55.125000  28.234756\n",
      "Period 4    28.940625   28.940625  28.940625\n"
     ]
    }
   ],
   "source": [
    "data = [[c1, capital1, income1],\n",
    "        [c2, capital2, income2],\n",
    "        [c3, capital3, income3],\n",
    "        [c4, capital4, income4]]\n",
    "\n",
    "print(data)\n",
    "\n",
    "summarydf = pd.DataFrame(data,\n",
    "                        columns= ['Consumption', 'Capital', 'Income'],\n",
    "                        index = ['Period 1', 'Period 2', 'Period 3', 'Period 4'])\n",
    "\n",
    "print(summarydf)"
   ]
  },
  {
   "cell_type": "code",
   "execution_count": 407,
   "metadata": {},
   "outputs": [
    {
     "name": "stdout",
     "output_type": "stream",
     "text": [
      "100\n",
      "78.75\n",
      "55.125\n",
      "28.940624999999997\n"
     ]
    }
   ],
   "source": [
    "def capital_function(t):\n",
    "    # Base case: 1! = 1\n",
    "    if t == 1:\n",
    "        return c0\n",
    "\n",
    "    # Recursive case: n! = n * (n-1)!\n",
    "    else:\n",
    "        return π*(capital_function(t-1)-C[t-2])\n",
    "\n",
    "print(capital_function(1))\n",
    "print(capital_function(2))\n",
    "print(capital_function(3))\n",
    "print(capital_function(4))\n"
   ]
  },
  {
   "cell_type": "code",
   "execution_count": 402,
   "metadata": {},
   "outputs": [
    {
     "name": "stdout",
     "output_type": "stream",
     "text": [
      "73.75\n",
      "78.75\n",
      "26.25\n"
     ]
    }
   ],
   "source": [
    "print(factorial_recursive(1)-C[1])\n",
    "print(π*(factorial_recursive(1)-C[0]))\n",
    "print(C[1])"
   ]
  },
  {
   "cell_type": "code",
   "execution_count": 384,
   "metadata": {},
   "outputs": [
    {
     "data": {
      "text/plain": [
       "77.4375"
      ]
     },
     "execution_count": 384,
     "metadata": {},
     "output_type": "execute_result"
    }
   ],
   "source": [
    "π*(factorial_recursive(2-1)-C[2-1])"
   ]
  },
  {
   "cell_type": "code",
   "execution_count": null,
   "metadata": {},
   "outputs": [
    {
     "name": "stdout",
     "output_type": "stream",
     "text": [
      "25.0\n",
      "26.25\n",
      "27.562500000000004\n",
      "28.940625\n"
     ]
    }
   ],
   "source": [
    "print(C[0])\n",
    "print(C[1])\n",
    "print(C[2])\n",
    "print(C[3])"
   ]
  },
  {
   "cell_type": "code",
   "execution_count": null,
   "metadata": {},
   "outputs": [],
   "source": [
    "factorial_recursive(3"
   ]
  }
 ],
 "metadata": {
  "interpreter": {
   "hash": "ee5cc6fef2d70a7e71ee3826687cbd150f18158e0b1eef11d4f4f92bb920e304"
  },
  "kernelspec": {
   "display_name": "Python 3.9.6 64-bit",
   "name": "python3"
  },
  "language_info": {
   "codemirror_mode": {
    "name": "ipython",
    "version": 3
   },
   "file_extension": ".py",
   "mimetype": "text/x-python",
   "name": "python",
   "nbconvert_exporter": "python",
   "pygments_lexer": "ipython3",
   "version": "3.9.6"
  },
  "orig_nbformat": 4
 },
 "nbformat": 4,
 "nbformat_minor": 2
}
