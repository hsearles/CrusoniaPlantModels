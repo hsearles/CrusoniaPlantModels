{
 "cells": [
  {
   "cell_type": "code",
   "execution_count": 94,
   "metadata": {},
   "outputs": [
    {
     "name": "stdout",
     "output_type": "stream",
     "text": [
      "Friday's Total Utility: 12.251622313888452\n",
      "Initial Mass of the Crusonia Plant: 99.99999999999999\n",
      "  Period        Consumption\n",
      "Period 1  26.85826977175836\n",
      "Period 2  26.85826977175836\n",
      "Period 3  26.85826977175836\n",
      "Period 4 26.858269771758355\n"
     ]
    },
    {
     "data": {
      "image/png": "[encoded data removed]",
      "text/plain": [
       "<Figure size 432x288 with 1 Axes>"
      ]
     },
     "metadata": {
      "needs_background": "light"
     },
     "output_type": "display_data"
    }
   ],
   "source": [
    "#Four-Period Crusonia Model\n",
    "import numpy as np\n",
    "import math\n",
    "import matplotlib.pyplot as plt\n",
    "import pandas as pd\n",
    "\n",
    "#Objective Function\n",
    "def u(c1, c2, c3, c4):\n",
    "    return math.log(c1) + ß*math.log(c2) + (ß**2)*math.log(c3) + (ß**3)*math.log(c4)\n",
    "#Constraint\n",
    "def c(c1, c2, c3, c4):\n",
    "    return c1 + c2/π + c3/(π**2) + c4/(π**3)\n",
    "\n",
    "#Parameters:\n",
    "ß = 0.9523809523809523\n",
    "π = 1.05\n",
    "c0 = 100\n",
    "\n",
    "#System of Equations for the Optimal Bundle:\n",
    "A = np.array([[(1+ß+ß**2+ß**3),0, 0, 0], [0,(1+ß+ß**2+ß**3)/(ß*π), 0, 0], [0, 0 , (1+ß+ß**2+ß**3)/((ß**2)*(π**2)), 0], [0, 0 , 0, (1+ß+ß**2+ß**3)/((ß**3)*(π**3))]])\n",
    "B = np.array([c0,c0, c0, c0])\n",
    "C = np.linalg.solve(A, B)\n",
    "\n",
    "\n",
    "\n",
    "#Optimal Choice in Periods 1 and 2:\n",
    "c1 = C[0]\n",
    "c2 = C[1]\n",
    "c3 = C[2]\n",
    "c4 = C[3]\n",
    "\n",
    "#Total Utility \n",
    "print(\"Friday's Total Utility:\", u(c1, c2, c3, c4))\n",
    "print('Initial Mass of the Crusonia Plant:', c(c1, c2, c3, c4))\n",
    "\n",
    "#Graph of Friday's Consumption Across Time\n",
    "x = np.array([\"Period 1\", \"Period 2\", \"Period 3\", \"Period 4\"])\n",
    "y = np.array([c1, c2, c3, c4])\n",
    "\n",
    "fourperioddf = pd.DataFrame(data=np.column_stack((x,y)),columns=['Period','Consumption'])\n",
    "print(fourperioddf.to_string(index=False))\n",
    "\n",
    "plt.bar(x,y, width=1.25)\n",
    "\n",
    "font1 = {'family':'MS Reference Sans Serif', 'color':'darkslategray','size':14}\n",
    "font2 = {'family':'MS Reference Specialty', 'color':'black','size':18}\n",
    "\n",
    "plt.xlabel(\"Period of Time\",  fontdict = font1)\n",
    "plt.ylabel(\"Friday's Consumption\",  fontdict = font1)\n",
    "plt.title(\"Friday's Optimal Consumption Over Time\", fontdict = font2)\n",
    "\n",
    "plt.show()"
   ]
  },
  {
   "cell_type": "code",
   "execution_count": 95,
   "metadata": {},
   "outputs": [
    {
     "data": {
      "text/plain": [
       "107.43307908703343"
      ]
     },
     "execution_count": 95,
     "metadata": {},
     "output_type": "execute_result"
    }
   ],
   "source": [
    "sum(y)"
   ]
  },
  {
   "cell_type": "code",
   "execution_count": 96,
   "metadata": {},
   "outputs": [
    {
     "name": "stdout",
     "output_type": "stream",
     "text": [
      "Friday's income in Period 1 is: 26.85826977175836\n",
      "The product of Friday's discount factor and his Crusonia plant's productivity: 1.0\n",
      "The product of Friday's discount factor and his Crusonia plant's productivity: 1.0\n",
      "The ratio of Friday's consumption in Period 2 to his consumption in Period 1: 1.0\n",
      "The ratio of Friday's consumption in Period 3 to his consumption in Period 2: 1.0\n",
      "The ratio of Friday's consumption in Period 2 to his consumption in Period 1: 0.9999999999999999\n",
      "Friday consumes his income.\n"
     ]
    }
   ],
   "source": [
    "def sigma_sum(start, end, expression):\n",
    "    return sum(expression(i) for i in range(start, end))\n",
    "\n",
    "income1 = c0/(sigma_sum(1, 5,lambda i: π**(1-i) ))\n",
    "print(\"Friday's income in Period 1 is:\",income1)\n",
    "\n",
    "print(\"The product of Friday's discount factor and his Crusonia plant's productivity:\",ß*π)\n",
    "\n",
    "print(\"The product of Friday's discount factor and his Crusonia plant's productivity:\",ß*π)\n",
    "print(\"The ratio of Friday's consumption in Period 2 to his consumption in Period 1:\",c2/c1)\n",
    "print(\"The ratio of Friday's consumption in Period 3 to his consumption in Period 2:\",c3/c2)\n",
    "print(\"The ratio of Friday's consumption in Period 2 to his consumption in Period 1:\",c4/c3)\n",
    "\n",
    "if income1 > c1:\n",
    "    print(\"Friday saves.\")\n",
    "\n",
    "if income1 < c1:\n",
    "    print(\"Friday dissaves.\")\n",
    "\n",
    "\n",
    "if income1 == c1:\n",
    "    print(\"Friday consumes his income.\")"
   ]
  },
  {
   "cell_type": "code",
   "execution_count": 97,
   "metadata": {},
   "outputs": [
    {
     "name": "stdout",
     "output_type": "stream",
     "text": [
      "26.85826977175836\n"
     ]
    }
   ],
   "source": [
    "def sigma_sum(start, end, expression):\n",
    "    return sum(expression(i) for i in range(start, end))\n",
    "\n",
    "income1 = c0/(sigma_sum(1, 5,lambda i: π**(1-i) ))\n",
    "print(income1)\n"
   ]
  },
  {
   "cell_type": "code",
   "execution_count": 98,
   "metadata": {},
   "outputs": [
    {
     "name": "stdout",
     "output_type": "stream",
     "text": [
      "Friday consumes his income.\n"
     ]
    }
   ],
   "source": [
    "if income1 > c1:\n",
    "    print(\"Friday saves.\")\n",
    "\n",
    "if income1 < c1:\n",
    "    print(\"Friday dissaves.\")\n",
    "\n",
    "\n",
    "if income1 == c1:\n",
    "    print(\"Friday consumes his income.\")"
   ]
  },
  {
   "cell_type": "code",
   "execution_count": 99,
   "metadata": {},
   "outputs": [
    {
     "name": "stdout",
     "output_type": "stream",
     "text": [
      "1.0\n"
     ]
    }
   ],
   "source": [
    "print(income1/c1)"
   ]
  },
  {
   "cell_type": "code",
   "execution_count": 109,
   "metadata": {},
   "outputs": [
    {
     "name": "stdout",
     "output_type": "stream",
     "text": [
      "Friday's income in Period 1 is: 26.85826977175836\n",
      "Friday's income in Period 2 is: 26.858269771758362\n",
      "Friday's income in Period 3 is: 26.85826977175837\n",
      "  Period        Consumption\n",
      "Period 1  26.85826977175836\n",
      "Period 2 26.858269771758362\n",
      "Period 3  26.85826977175837\n"
     ]
    },
    {
     "data": {
      "image/png": "[encoded data removed]",
      "text/plain": [
       "<Figure size 432x288 with 1 Axes>"
      ]
     },
     "metadata": {
      "needs_background": "light"
     },
     "output_type": "display_data"
    }
   ],
   "source": [
    "#WWorking Out the Time Path of Friday's Income:\n",
    "\n",
    "#Period 1\n",
    "income1 = c0/(sigma_sum(1, 5,lambda i: π**(1-i) ))\n",
    "print(\"Friday's income in Period 1 is:\",income1)\n",
    "\n",
    "#Period 2 \n",
    "\n",
    "capital2 = π*(c0-c1)\n",
    "income2 = π*(c0-c1)/(sigma_sum(1, 4,lambda i: π**(1-i) ))\n",
    "\n",
    "print(\"Friday's income in Period 2 is:\",income2)\n",
    "\n",
    "#Period 3\n",
    "capital3 = π*(π*(c0-c1)-c2)\n",
    "\n",
    "income3 = π*(π*(c0-c1)-c2)/(sigma_sum(1, 3,lambda i: π**(1-i) ))\n",
    "print(\"Friday's income in Period 3 is:\",income3)\n",
    "\n",
    "\n",
    "#Data Frame for the Time Path:\n",
    "timearray = np.array([\"Period 1\", \"Period 2\", \"Period 3\"])\n",
    "incomearray = np.array([income1, income2, income3])\n",
    "\n",
    "incomedf = pd.DataFrame(data=np.column_stack((timearray,incomearray)),columns=['Period','Consumption'])\n",
    "print(incomedf.to_string(index=False))\n",
    "\n",
    "plt.bar(timearray,incomearray, width=1.25)\n",
    "\n",
    "font1 = {'family':'MS Reference Sans Serif', 'color':'darkslategray','size':14}\n",
    "font2 = {'family':'MS Reference Specialty', 'color':'black','size':18}\n",
    "\n",
    "plt.xlabel(\"Period of Time\",  fontdict = font1)\n",
    "plt.ylabel(\"Friday's Income\",  fontdict = font1)\n",
    "plt.title(\"Friday's Income Over Time\", fontdict = font2)\n",
    "\n",
    "plt.show()"
   ]
  },
  {
   "cell_type": "code",
   "execution_count": 101,
   "metadata": {},
   "outputs": [
    {
     "name": "stdout",
     "output_type": "stream",
     "text": [
      "1.0\n",
      "1.0000000000000002\n",
      "1.0000000000000002\n"
     ]
    }
   ],
   "source": [
    "#Some Comparisonss\n",
    "print(income1/c1)\n",
    "print(income2/c2)\n",
    "print(income2/income1)\n",
    "\n",
    "\n",
    "\n",
    "print(income3-income2)\n",
    "print(income2-income1)"
   ]
  }
 ],
 "metadata": {
  "interpreter": {
   "hash": "ee5cc6fef2d70a7e71ee3826687cbd150f18158e0b1eef11d4f4f92bb920e304"
  },
  "kernelspec": {
   "display_name": "Python 3.9.6 64-bit",
   "name": "python3"
  },
  "language_info": {
   "codemirror_mode": {
    "name": "ipython",
    "version": 3
   },
   "file_extension": ".py",
   "mimetype": "text/x-python",
   "name": "python",
   "nbconvert_exporter": "python",
   "pygments_lexer": "ipython3",
   "version": "3.9.6"
  },
  "orig_nbformat": 4
 },
 "nbformat": 4,
 "nbformat_minor": 2
}
