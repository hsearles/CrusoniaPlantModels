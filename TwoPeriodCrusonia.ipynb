{
 "cells": [
  {
   "cell_type": "code",
   "execution_count": 7,
   "source": [
    "#Two-Period Crusonia Model\r\n",
    "import numpy as np\r\n",
    "import math\r\n",
    "import matplotlib.pyplot as plt\r\n",
    "import pandas as pd\r\n",
    "\r\n",
    "#Objective Function\r\n",
    "def u(c1, c2):\r\n",
    "    return math.log(c1) + ß*math.log(c2) \r\n",
    "#Constraint\r\n",
    "def c(c1, c2):\r\n",
    "    return c1 + c2/π\r\n",
    "\r\n",
    "\r\n",
    "#Parameters:\r\n",
    "ß = 1\r\n",
    "π = 1.05\r\n",
    "c0 = 10\r\n",
    "\r\n",
    "#System of Equations for the Optimal Bundle:\r\n",
    "A = np.array([[1+ß,0], [0,(1+ß)/(ß*π)]])\r\n",
    "B = np.array([c0,c0])\r\n",
    "C = np.linalg.solve(A, B)\r\n",
    "\r\n",
    "#Optimal Choice in Periods 1 and 2:\r\n",
    "c1 = C[0]\r\n",
    "c2 = C[1]\r\n",
    "\r\n",
    "#Total Utility \r\n",
    "print(\"Friday's Total Utility:\", u(c1, c2))\r\n",
    "print('Initial Mass of the Crusonia Plant:', c(c1, c2))\r\n",
    "\r\n",
    "\r\n",
    "#Graph of Friday's Consumption Across Time\r\n",
    "x = np.array([\"Today\", \"Tomorrow\"])\r\n",
    "y = np.array([c1, c2])\r\n",
    "\r\n",
    "twoperioddf = pd.DataFrame(data=np.column_stack((x,y)),columns=['Period',\"Consumption\"])\r\n",
    "print(twoperioddf.to_string(index=False))\r\n",
    "\r\n",
    "plt.bar(x,y, width=1.25)\r\n",
    "\r\n",
    "font1 = {'family':'MS Reference Sans Serif', 'color':'darkslategray','size':14}\r\n",
    "font2 = {'family':'MS Reference Specialty', 'color':'black','size':18}\r\n",
    "\r\n",
    "plt.xlabel(\"Period of Time\",  fontdict = font1)\r\n",
    "plt.ylabel(\"Friday's Consumption\",  fontdict = font1)\r\n",
    "plt.title(\"Friday's Optimal Consumption Over Time\", fontdict = font2)\r\n",
    "plt.show()"
   ],
   "outputs": [
    {
     "output_type": "stream",
     "name": "stdout",
     "text": [
      "Friday's Total Utility: 3.2676659890376327\n",
      "Initial Mass of the Crusonia Plant: 10.0\n",
      "  Period Consumption\n",
      "   Today         5.0\n",
      "Tomorrow        5.25\n"
     ]
    },
    {
     "output_type": "display_data",
     "data": {
      "image/png": "[encoded data removed]",
      "text/plain": [
       "<Figure size 432x288 with 1 Axes>"
      ]
     },
     "metadata": {
      "needs_background": "light"
     }
    }
   ],
   "metadata": {}
  },
  {
   "cell_type": "code",
   "execution_count": null,
   "source": [],
   "outputs": [],
   "metadata": {}
  }
 ],
 "metadata": {
  "orig_nbformat": 4,
  "language_info": {
   "name": "python",
   "version": "3.9.6",
   "mimetype": "text/x-python",
   "codemirror_mode": {
    "name": "ipython",
    "version": 3
   },
   "pygments_lexer": "ipython3",
   "nbconvert_exporter": "python",
   "file_extension": ".py"
  },
  "kernelspec": {
   "name": "python3",
   "display_name": "Python 3.9.6 64-bit"
  },
  "interpreter": {
   "hash": "ee5cc6fef2d70a7e71ee3826687cbd150f18158e0b1eef11d4f4f92bb920e304"
  }
 },
 "nbformat": 4,
 "nbformat_minor": 2
}