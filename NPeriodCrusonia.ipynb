{
 "cells": [
  {
   "cell_type": "code",
   "execution_count": 1,
   "metadata": {},
   "outputs": [
    {
     "name": "stderr",
     "output_type": "stream",
     "text": [
      "findfont: Font family ['MS Reference Specialty'] not found. Falling back to DejaVu Sans.\n"
     ]
    },
    {
     "name": "stdout",
     "output_type": "stream",
     "text": [
      "Friday's Total Utility: 41.4588894408741\n",
      "Initial Mass of the Crusonia Plant: 100.0\n",
      " Period  Consumption\n",
      "    1.0     5.000000\n",
      "    2.0     5.250000\n",
      "    3.0     5.512500\n",
      "    4.0     5.788125\n",
      "    5.0     6.077531\n",
      "    6.0     6.381408\n",
      "    7.0     6.700478\n",
      "    8.0     7.035502\n",
      "    9.0     7.387277\n",
      "   10.0     7.756641\n",
      "   11.0     8.144473\n",
      "   12.0     8.551697\n",
      "   13.0     8.979282\n",
      "   14.0     9.428246\n",
      "   15.0     9.899658\n",
      "   16.0    10.394641\n",
      "   17.0    10.914373\n",
      "   18.0    11.460092\n",
      "   19.0    12.033096\n",
      "   20.0    12.634751\n"
     ]
    },
    {
     "name": "stderr",
     "output_type": "stream",
     "text": [
      "findfont: Font family ['MS Reference Sans Serif'] not found. Falling back to DejaVu Sans.\n"
     ]
    },
    {
     "data": {
      "image/png": "[encoded data removed]",
      "text/plain": [
       "<Figure size 432x288 with 1 Axes>"
      ]
     },
     "metadata": {
      "needs_background": "light"
     },
     "output_type": "display_data"
    }
   ],
   "source": [
    "#N-Period Crusonia Model\n",
    "import numpy as np\n",
    "import math\n",
    "import matplotlib.pyplot as plt\n",
    "import pandas as pd\n",
    "from matplotlib.pyplot import figure\n",
    "\n",
    "t = int(input(\"Enter the number of time periods, t:\")) \n",
    "\n",
    "#Coefficients\n",
    "c0 = float(input(\"Enter the initial size of the Crusonia plant, c0:\"))  #The Crusonia plant's initial size\n",
    "ß = float(input(\"Enter Friday's discount factor, ß, generally it is assumed that 0<ß≤1:\"))  #The factor by which Friday discounts the urgency of future demands\n",
    "π = float(input(\"Enter the rate at which the Crusonia plant grows, π, if π<1 the Crusonia plant decays over time and if π>1 it grows over time:\")) #The rate at which the Crusonia plant grows\n",
    "\n",
    "#Solving for the Optimal Consumption Path\n",
    "i, j = np.meshgrid(np.arange(t), np.arange(t))\n",
    "a = ((1/((ß**j)*(π**j)))*1)*sum([ß**(x-1) for x in range(1, t+1)])\n",
    "A = np.diag(np.diag(a))\n",
    "b =  np.full((t, 1), c0)\n",
    "\n",
    "x = np.linalg.solve(A, b)\n",
    "\n",
    "\n",
    "#Creating a Vector for Time Periods\n",
    "k, l = np.meshgrid(np.arange(1), np.arange(t))\n",
    "time = (l+1)\n",
    "\n",
    "#Finding the Total Utility:\n",
    "log = np.log(x) #Friday's utility can be decomposed across each period and it is described by the natural logarithm of his consumption that period\n",
    "m, n = np.meshgrid(np.arange(t), np.arange(t))\n",
    "z = ((((ß**(k))*1**n))) \n",
    "discount = np.diag(np.diag(z))\n",
    "c = np.multiply(log, discount)\n",
    "util = np.sum(c)\n",
    "print(\"Friday's Total Utility:\", util)\n",
    "print('Initial Mass of the Crusonia Plant:', c0)\n",
    "\n",
    "nperioddf = pd.DataFrame(data=np.column_stack((time,x)),columns=['Period','Consumption'])\n",
    "print(nperioddf.to_string(index=False))\n",
    "\n",
    "plt.plot(time, x, color = 'deepskyblue')\n",
    "\n",
    "font1 = {'family':'MS Reference Sans Serif', 'color':'darkslategray','size':14}\n",
    "font2 = {'family':'MS Reference Specialty', 'color':'black','size':18}\n",
    "plt.ylim(ymin=0) \n",
    "\n",
    "plt.xlabel(\"Time\", fontdict = font1)\n",
    "plt.ylabel(\"Consumption\", fontdict = font1)\n",
    "plt.title(\"Friday's Optimal Consumption Over Time\", fontdict = font2)\n",
    "\n",
    "plt.show()"
   ]
  },
  {
   "cell_type": "markdown",
   "metadata": {},
   "source": []
  },
  {
   "cell_type": "code",
   "execution_count": 73,
   "metadata": {},
   "outputs": [
    {
     "name": "stdout",
     "output_type": "stream",
     "text": [
      "The product of Friday's discount factor and his Crusonia plant's productivity: 1.0185\n",
      "Friday's income is: 4.798394101858203\n"
     ]
    }
   ],
   "source": [
    "print(\"The product of Friday's discount factor and his Crusonia plant's productivity:\",ß*π)\n",
    "\n",
    "def sigma_sum(start, end, expression):\n",
    "    return sum(expression(i) for i in range(start, end))\n",
    "\n",
    "income = c0/(sigma_sum(1, t+1,lambda i: π**(1-i) ))\n",
    "print(\"Friday's income is:\",income)"
   ]
  },
  {
   "cell_type": "code",
   "execution_count": null,
   "metadata": {},
   "outputs": [],
   "source": []
  },
  {
   "cell_type": "code",
   "execution_count": 70,
   "metadata": {},
   "outputs": [
    {
     "data": {
      "text/html": [
       "<div>\n",
       "<style scoped>\n",
       "    .dataframe tbody tr th:only-of-type {\n",
       "        vertical-align: middle;\n",
       "    }\n",
       "\n",
       "    .dataframe tbody tr th {\n",
       "        vertical-align: top;\n",
       "    }\n",
       "\n",
       "    .dataframe thead th {\n",
       "        text-align: right;\n",
       "    }\n",
       "</style>\n",
       "<table border=\"1\" class=\"dataframe\">\n",
       "  <thead>\n",
       "    <tr style=\"text-align: right;\">\n",
       "      <th></th>\n",
       "      <th>Period</th>\n",
       "      <th>Consumption</th>\n",
       "    </tr>\n",
       "  </thead>\n",
       "  <tbody>\n",
       "    <tr>\n",
       "      <th>0</th>\n",
       "      <td>1.0</td>\n",
       "      <td>3.149780</td>\n",
       "    </tr>\n",
       "    <tr>\n",
       "      <th>1</th>\n",
       "      <td>2.0</td>\n",
       "      <td>3.208051</td>\n",
       "    </tr>\n",
       "    <tr>\n",
       "      <th>2</th>\n",
       "      <td>3.0</td>\n",
       "      <td>3.267400</td>\n",
       "    </tr>\n",
       "    <tr>\n",
       "      <th>3</th>\n",
       "      <td>4.0</td>\n",
       "      <td>3.327847</td>\n",
       "    </tr>\n",
       "    <tr>\n",
       "      <th>4</th>\n",
       "      <td>5.0</td>\n",
       "      <td>3.389412</td>\n",
       "    </tr>\n",
       "    <tr>\n",
       "      <th>...</th>\n",
       "      <td>...</td>\n",
       "      <td>...</td>\n",
       "    </tr>\n",
       "    <tr>\n",
       "      <th>95</th>\n",
       "      <td>96.0</td>\n",
       "      <td>17.971254</td>\n",
       "    </tr>\n",
       "    <tr>\n",
       "      <th>96</th>\n",
       "      <td>97.0</td>\n",
       "      <td>18.303722</td>\n",
       "    </tr>\n",
       "    <tr>\n",
       "      <th>97</th>\n",
       "      <td>98.0</td>\n",
       "      <td>18.642341</td>\n",
       "    </tr>\n",
       "    <tr>\n",
       "      <th>98</th>\n",
       "      <td>99.0</td>\n",
       "      <td>18.987224</td>\n",
       "    </tr>\n",
       "    <tr>\n",
       "      <th>99</th>\n",
       "      <td>100.0</td>\n",
       "      <td>19.338488</td>\n",
       "    </tr>\n",
       "  </tbody>\n",
       "</table>\n",
       "<p>100 rows × 2 columns</p>\n",
       "</div>"
      ],
      "text/plain": [
       "    Period  Consumption\n",
       "0      1.0     3.149780\n",
       "1      2.0     3.208051\n",
       "2      3.0     3.267400\n",
       "3      4.0     3.327847\n",
       "4      5.0     3.389412\n",
       "..     ...          ...\n",
       "95    96.0    17.971254\n",
       "96    97.0    18.303722\n",
       "97    98.0    18.642341\n",
       "98    99.0    18.987224\n",
       "99   100.0    19.338488\n",
       "\n",
       "[100 rows x 2 columns]"
      ]
     },
     "execution_count": 70,
     "metadata": {},
     "output_type": "execute_result"
    }
   ],
   "source": [
    "nperioddf"
   ]
  },
  {
   "cell_type": "code",
   "execution_count": 71,
   "metadata": {},
   "outputs": [
    {
     "name": "stdout",
     "output_type": "stream",
     "text": [
      "0      3.149780\n",
      "1      3.208051\n",
      "2      3.267400\n",
      "3      3.327847\n",
      "4      3.389412\n",
      "        ...    \n",
      "95    17.971254\n",
      "96    18.303722\n",
      "97    18.642341\n",
      "98    18.987224\n",
      "99    19.338488\n",
      "Name: Consumption, Length: 100, dtype: float64\n"
     ]
    }
   ],
   "source": [
    " print(nperioddf['Consumption'])"
   ]
  },
  {
   "cell_type": "code",
   "execution_count": 72,
   "metadata": {},
   "outputs": [],
   "source": [
    "dftest = nperioddf.to_string(index=False)\n"
   ]
  },
  {
   "cell_type": "code",
   "execution_count": null,
   "metadata": {},
   "outputs": [],
   "source": []
  }
 ],
 "metadata": {
  "interpreter": {
   "hash": "25034407fed5d681614dac11a1c0537e8cb49e3a8883c071303eea01322943d9"
  },
  "kernelspec": {
   "display_name": "Python 3.9.6 64-bit",
   "language": "python",
   "name": "python3"
  },
  "language_info": {
   "codemirror_mode": {
    "name": "ipython",
    "version": 3
   },
   "file_extension": ".py",
   "mimetype": "text/x-python",
   "name": "python",
   "nbconvert_exporter": "python",
   "pygments_lexer": "ipython3",
   "version": "3.9.6"
  },
  "orig_nbformat": 4
 },
 "nbformat": 4,
 "nbformat_minor": 2
}
